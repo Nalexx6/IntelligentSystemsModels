{
  "nbformat": 4,
  "nbformat_minor": 0,
  "metadata": {
    "colab": {
      "provenance": []
    },
    "kernelspec": {
      "name": "python3",
      "display_name": "Python 3"
    },
    "language_info": {
      "name": "python"
    }
  },
  "cells": [
    {
      "cell_type": "code",
      "execution_count": null,
      "metadata": {
        "id": "SqwG8RlXnbVz"
      },
      "outputs": [],
      "source": [
        "import pandas as pd\n",
        "\n",
        "df = pd.read_csv('./Expanded_data_with_more_features.csv')"
      ]
    },
    {
      "cell_type": "code",
      "source": [
        "df.columns"
      ],
      "metadata": {
        "colab": {
          "base_uri": "https://localhost:8080/"
        },
        "id": "xaBEUOcPo0xu",
        "outputId": "bc80e7f9-9700-4379-ea7b-e525d9ae4caa"
      },
      "execution_count": null,
      "outputs": [
        {
          "output_type": "execute_result",
          "data": {
            "text/plain": [
              "Index(['Unnamed: 0', 'Gender', 'EthnicGroup', 'ParentEduc', 'LunchType',\n",
              "       'TestPrep', 'ParentMaritalStatus', 'PracticeSport', 'IsFirstChild',\n",
              "       'NrSiblings', 'TransportMeans', 'WklyStudyHours', 'MathScore',\n",
              "       'ReadingScore', 'WritingScore'],\n",
              "      dtype='object')"
            ]
          },
          "metadata": {},
          "execution_count": 31
        }
      ]
    },
    {
      "cell_type": "code",
      "source": [
        "df.describe()"
      ],
      "metadata": {
        "colab": {
          "base_uri": "https://localhost:8080/",
          "height": 300
        },
        "id": "CxWLAolRozuk",
        "outputId": "252da35b-5e36-4a88-930a-61cd2b116c08"
      },
      "execution_count": null,
      "outputs": [
        {
          "output_type": "execute_result",
          "data": {
            "text/plain": [
              "         Unnamed: 0    NrSiblings     MathScore  ReadingScore  WritingScore\n",
              "count  30641.000000  29069.000000  30641.000000  30641.000000  30641.000000\n",
              "mean     499.556607      2.145894     66.558402     69.377533     68.418622\n",
              "std      288.747894      1.458242     15.361616     14.758952     15.443525\n",
              "min        0.000000      0.000000      0.000000     10.000000      4.000000\n",
              "25%      249.000000      1.000000     56.000000     59.000000     58.000000\n",
              "50%      500.000000      2.000000     67.000000     70.000000     69.000000\n",
              "75%      750.000000      3.000000     78.000000     80.000000     79.000000\n",
              "max      999.000000      7.000000    100.000000    100.000000    100.000000"
            ],
            "text/html": [
              "\n",
              "  <div id=\"df-a9229d45-0c88-41fd-b7d8-07bfd019362d\">\n",
              "    <div class=\"colab-df-container\">\n",
              "      <div>\n",
              "<style scoped>\n",
              "    .dataframe tbody tr th:only-of-type {\n",
              "        vertical-align: middle;\n",
              "    }\n",
              "\n",
              "    .dataframe tbody tr th {\n",
              "        vertical-align: top;\n",
              "    }\n",
              "\n",
              "    .dataframe thead th {\n",
              "        text-align: right;\n",
              "    }\n",
              "</style>\n",
              "<table border=\"1\" class=\"dataframe\">\n",
              "  <thead>\n",
              "    <tr style=\"text-align: right;\">\n",
              "      <th></th>\n",
              "      <th>Unnamed: 0</th>\n",
              "      <th>NrSiblings</th>\n",
              "      <th>MathScore</th>\n",
              "      <th>ReadingScore</th>\n",
              "      <th>WritingScore</th>\n",
              "    </tr>\n",
              "  </thead>\n",
              "  <tbody>\n",
              "    <tr>\n",
              "      <th>count</th>\n",
              "      <td>30641.000000</td>\n",
              "      <td>29069.000000</td>\n",
              "      <td>30641.000000</td>\n",
              "      <td>30641.000000</td>\n",
              "      <td>30641.000000</td>\n",
              "    </tr>\n",
              "    <tr>\n",
              "      <th>mean</th>\n",
              "      <td>499.556607</td>\n",
              "      <td>2.145894</td>\n",
              "      <td>66.558402</td>\n",
              "      <td>69.377533</td>\n",
              "      <td>68.418622</td>\n",
              "    </tr>\n",
              "    <tr>\n",
              "      <th>std</th>\n",
              "      <td>288.747894</td>\n",
              "      <td>1.458242</td>\n",
              "      <td>15.361616</td>\n",
              "      <td>14.758952</td>\n",
              "      <td>15.443525</td>\n",
              "    </tr>\n",
              "    <tr>\n",
              "      <th>min</th>\n",
              "      <td>0.000000</td>\n",
              "      <td>0.000000</td>\n",
              "      <td>0.000000</td>\n",
              "      <td>10.000000</td>\n",
              "      <td>4.000000</td>\n",
              "    </tr>\n",
              "    <tr>\n",
              "      <th>25%</th>\n",
              "      <td>249.000000</td>\n",
              "      <td>1.000000</td>\n",
              "      <td>56.000000</td>\n",
              "      <td>59.000000</td>\n",
              "      <td>58.000000</td>\n",
              "    </tr>\n",
              "    <tr>\n",
              "      <th>50%</th>\n",
              "      <td>500.000000</td>\n",
              "      <td>2.000000</td>\n",
              "      <td>67.000000</td>\n",
              "      <td>70.000000</td>\n",
              "      <td>69.000000</td>\n",
              "    </tr>\n",
              "    <tr>\n",
              "      <th>75%</th>\n",
              "      <td>750.000000</td>\n",
              "      <td>3.000000</td>\n",
              "      <td>78.000000</td>\n",
              "      <td>80.000000</td>\n",
              "      <td>79.000000</td>\n",
              "    </tr>\n",
              "    <tr>\n",
              "      <th>max</th>\n",
              "      <td>999.000000</td>\n",
              "      <td>7.000000</td>\n",
              "      <td>100.000000</td>\n",
              "      <td>100.000000</td>\n",
              "      <td>100.000000</td>\n",
              "    </tr>\n",
              "  </tbody>\n",
              "</table>\n",
              "</div>\n",
              "      <button class=\"colab-df-convert\" onclick=\"convertToInteractive('df-a9229d45-0c88-41fd-b7d8-07bfd019362d')\"\n",
              "              title=\"Convert this dataframe to an interactive table.\"\n",
              "              style=\"display:none;\">\n",
              "        \n",
              "  <svg xmlns=\"http://www.w3.org/2000/svg\" height=\"24px\"viewBox=\"0 0 24 24\"\n",
              "       width=\"24px\">\n",
              "    <path d=\"M0 0h24v24H0V0z\" fill=\"none\"/>\n",
              "    <path d=\"M18.56 5.44l.94 2.06.94-2.06 2.06-.94-2.06-.94-.94-2.06-.94 2.06-2.06.94zm-11 1L8.5 8.5l.94-2.06 2.06-.94-2.06-.94L8.5 2.5l-.94 2.06-2.06.94zm10 10l.94 2.06.94-2.06 2.06-.94-2.06-.94-.94-2.06-.94 2.06-2.06.94z\"/><path d=\"M17.41 7.96l-1.37-1.37c-.4-.4-.92-.59-1.43-.59-.52 0-1.04.2-1.43.59L10.3 9.45l-7.72 7.72c-.78.78-.78 2.05 0 2.83L4 21.41c.39.39.9.59 1.41.59.51 0 1.02-.2 1.41-.59l7.78-7.78 2.81-2.81c.8-.78.8-2.07 0-2.86zM5.41 20L4 18.59l7.72-7.72 1.47 1.35L5.41 20z\"/>\n",
              "  </svg>\n",
              "      </button>\n",
              "      \n",
              "  <style>\n",
              "    .colab-df-container {\n",
              "      display:flex;\n",
              "      flex-wrap:wrap;\n",
              "      gap: 12px;\n",
              "    }\n",
              "\n",
              "    .colab-df-convert {\n",
              "      background-color: #E8F0FE;\n",
              "      border: none;\n",
              "      border-radius: 50%;\n",
              "      cursor: pointer;\n",
              "      display: none;\n",
              "      fill: #1967D2;\n",
              "      height: 32px;\n",
              "      padding: 0 0 0 0;\n",
              "      width: 32px;\n",
              "    }\n",
              "\n",
              "    .colab-df-convert:hover {\n",
              "      background-color: #E2EBFA;\n",
              "      box-shadow: 0px 1px 2px rgba(60, 64, 67, 0.3), 0px 1px 3px 1px rgba(60, 64, 67, 0.15);\n",
              "      fill: #174EA6;\n",
              "    }\n",
              "\n",
              "    [theme=dark] .colab-df-convert {\n",
              "      background-color: #3B4455;\n",
              "      fill: #D2E3FC;\n",
              "    }\n",
              "\n",
              "    [theme=dark] .colab-df-convert:hover {\n",
              "      background-color: #434B5C;\n",
              "      box-shadow: 0px 1px 3px 1px rgba(0, 0, 0, 0.15);\n",
              "      filter: drop-shadow(0px 1px 2px rgba(0, 0, 0, 0.3));\n",
              "      fill: #FFFFFF;\n",
              "    }\n",
              "  </style>\n",
              "\n",
              "      <script>\n",
              "        const buttonEl =\n",
              "          document.querySelector('#df-a9229d45-0c88-41fd-b7d8-07bfd019362d button.colab-df-convert');\n",
              "        buttonEl.style.display =\n",
              "          google.colab.kernel.accessAllowed ? 'block' : 'none';\n",
              "\n",
              "        async function convertToInteractive(key) {\n",
              "          const element = document.querySelector('#df-a9229d45-0c88-41fd-b7d8-07bfd019362d');\n",
              "          const dataTable =\n",
              "            await google.colab.kernel.invokeFunction('convertToInteractive',\n",
              "                                                     [key], {});\n",
              "          if (!dataTable) return;\n",
              "\n",
              "          const docLinkHtml = 'Like what you see? Visit the ' +\n",
              "            '<a target=\"_blank\" href=https://colab.research.google.com/notebooks/data_table.ipynb>data table notebook</a>'\n",
              "            + ' to learn more about interactive tables.';\n",
              "          element.innerHTML = '';\n",
              "          dataTable['output_type'] = 'display_data';\n",
              "          await google.colab.output.renderOutput(dataTable, element);\n",
              "          const docLink = document.createElement('div');\n",
              "          docLink.innerHTML = docLinkHtml;\n",
              "          element.appendChild(docLink);\n",
              "        }\n",
              "      </script>\n",
              "    </div>\n",
              "  </div>\n",
              "  "
            ]
          },
          "metadata": {},
          "execution_count": 32
        }
      ]
    },
    {
      "cell_type": "code",
      "source": [
        "# 1\n",
        "\n",
        "df.groupby([\"Gender\"])['Gender'].count()"
      ],
      "metadata": {
        "colab": {
          "base_uri": "https://localhost:8080/"
        },
        "id": "0JHFkSEMoxjd",
        "outputId": "b13aa635-ee57-48c2-c1db-f42966b74ac5"
      },
      "execution_count": null,
      "outputs": [
        {
          "output_type": "execute_result",
          "data": {
            "text/plain": [
              "Gender\n",
              "female    15424\n",
              "male      15217\n",
              "Name: Gender, dtype: int64"
            ]
          },
          "metadata": {},
          "execution_count": 33
        }
      ]
    },
    {
      "cell_type": "code",
      "source": [
        "\n",
        "# 2\n",
        "\n",
        "male = df.query('Gender == \"male\"')['Gender'].count()\n",
        "female = df.query('Gender == \"female\"')['Gender'].count()\n",
        "male / (male + female) * 100"
      ],
      "metadata": {
        "colab": {
          "base_uri": "https://localhost:8080/"
        },
        "id": "nQd-3Npxou2z",
        "outputId": "0e1ff0af-a56b-42da-f794-cb5383d7b97e"
      },
      "execution_count": null,
      "outputs": [
        {
          "output_type": "execute_result",
          "data": {
            "text/plain": [
              "49.6622172905584"
            ]
          },
          "metadata": {},
          "execution_count": 34
        }
      ]
    },
    {
      "cell_type": "code",
      "source": [
        "# 3 \n",
        "\n",
        "male = df.query('Gender == \"male\"')['Gender'].count()\n",
        "female = df.query('Gender == \"female\"')['Gender'].count()\n",
        "female / (male + female) * 100"
      ],
      "metadata": {
        "colab": {
          "base_uri": "https://localhost:8080/"
        },
        "id": "KgCMWRuEorO2",
        "outputId": "10ab828d-237e-4058-f4d1-503a975bdf4c"
      },
      "execution_count": null,
      "outputs": [
        {
          "output_type": "execute_result",
          "data": {
            "text/plain": [
              "50.337782709441605"
            ]
          },
          "metadata": {},
          "execution_count": 35
        }
      ]
    },
    {
      "cell_type": "code",
      "source": [
        "# 4\n",
        "\n",
        "df.groupby('EthnicGroup')[\"MathScore\"].mean().sort_values(ascending=False)[:1]"
      ],
      "metadata": {
        "colab": {
          "base_uri": "https://localhost:8080/"
        },
        "id": "y8u4Llc0oohT",
        "outputId": "6ebc1195-2cdc-4986-c5e6-746e3d896f01"
      },
      "execution_count": null,
      "outputs": [
        {
          "output_type": "execute_result",
          "data": {
            "text/plain": [
              "EthnicGroup\n",
              "group E    75.298936\n",
              "Name: MathScore, dtype: float64"
            ]
          },
          "metadata": {},
          "execution_count": 36
        }
      ]
    },
    {
      "cell_type": "code",
      "source": [
        "# 5\n",
        "\n",
        "df.groupby('EthnicGroup')[\"ReadingScore\"].mean().sort_values(ascending=False)[:1]"
      ],
      "metadata": {
        "colab": {
          "base_uri": "https://localhost:8080/"
        },
        "id": "lB8RnC9_olPL",
        "outputId": "d5277e7a-3015-4f96-c32a-c0d1b56b3d0a"
      },
      "execution_count": null,
      "outputs": [
        {
          "output_type": "execute_result",
          "data": {
            "text/plain": [
              "EthnicGroup\n",
              "group E    74.251423\n",
              "Name: ReadingScore, dtype: float64"
            ]
          },
          "metadata": {},
          "execution_count": 37
        }
      ]
    },
    {
      "cell_type": "code",
      "source": [
        "# 6\n",
        "\n",
        "df.groupby('EthnicGroup')[\"WritingScore\"].mean().sort_values(ascending=False)[:1]"
      ],
      "metadata": {
        "colab": {
          "base_uri": "https://localhost:8080/"
        },
        "id": "F2N8DSmSojSq",
        "outputId": "161263ba-4bc6-4052-9dd3-af79d132f57a"
      },
      "execution_count": null,
      "outputs": [
        {
          "output_type": "execute_result",
          "data": {
            "text/plain": [
              "EthnicGroup\n",
              "group E    72.67706\n",
              "Name: WritingScore, dtype: float64"
            ]
          },
          "metadata": {},
          "execution_count": 38
        }
      ]
    },
    {
      "cell_type": "code",
      "source": [
        "# 7\n",
        "\n",
        "df.query(\"TestPrep == 'completed'\")[\"MathScore\"].mean()"
      ],
      "metadata": {
        "colab": {
          "base_uri": "https://localhost:8080/"
        },
        "id": "izgLoo1Foc_U",
        "outputId": "f2b59567-c769-4e92-d502-1cf1790a5762"
      },
      "execution_count": null,
      "outputs": [
        {
          "output_type": "execute_result",
          "data": {
            "text/plain": [
              "69.5466599698644"
            ]
          },
          "metadata": {},
          "execution_count": 39
        }
      ]
    },
    {
      "cell_type": "code",
      "source": [
        "# 8\n",
        "\n",
        "df.query(\"TestPrep == 'completed'\")[\"ReadingScore\"].mean()"
      ],
      "metadata": {
        "colab": {
          "base_uri": "https://localhost:8080/"
        },
        "id": "_2rqFYV2oZ8_",
        "outputId": "b2fcd629-6adc-4758-d569-2e990c2e524e"
      },
      "execution_count": null,
      "outputs": [
        {
          "output_type": "execute_result",
          "data": {
            "text/plain": [
              "73.73299849321948"
            ]
          },
          "metadata": {},
          "execution_count": 40
        }
      ]
    },
    {
      "cell_type": "code",
      "source": [
        "# 9\n",
        "df['MeanTestsScore'] = (df['MathScore'] + df['ReadingScore'] + df['WritingScore'])/3\n",
        "\n",
        "df.query(\"TestPrep == 'completed'\")[\"MeanTestsScore\"].mean()"
      ],
      "metadata": {
        "colab": {
          "base_uri": "https://localhost:8080/"
        },
        "id": "Nn0snOZ9puO0",
        "outputId": "8c400337-05e7-41dc-bec6-78b18589621a"
      },
      "execution_count": null,
      "outputs": [
        {
          "output_type": "execute_result",
          "data": {
            "text/plain": [
              "72.66097438473129"
            ]
          },
          "metadata": {},
          "execution_count": 41
        }
      ]
    },
    {
      "cell_type": "code",
      "source": [
        "# 10\n",
        "\n",
        "df.query(\"ParentMaritalStatus == 'married'\").count()['ParentMaritalStatus']"
      ],
      "metadata": {
        "colab": {
          "base_uri": "https://localhost:8080/"
        },
        "id": "IZ7D_RhboUjL",
        "outputId": "f442b3b1-c249-48c9-90b2-7f6bebafa9d8"
      },
      "execution_count": null,
      "outputs": [
        {
          "output_type": "execute_result",
          "data": {
            "text/plain": [
              "16844"
            ]
          },
          "metadata": {},
          "execution_count": 42
        }
      ]
    },
    {
      "cell_type": "code",
      "source": [
        "# 11\n",
        "\n",
        "df.query(\"ParentMaritalStatus == 'single'\").count()['ParentMaritalStatus']"
      ],
      "metadata": {
        "colab": {
          "base_uri": "https://localhost:8080/"
        },
        "id": "8M6_tXxKoPg0",
        "outputId": "0084b301-a0c9-4f1b-d6ca-4ecf09c38da9"
      },
      "execution_count": null,
      "outputs": [
        {
          "output_type": "execute_result",
          "data": {
            "text/plain": [
              "7097"
            ]
          },
          "metadata": {},
          "execution_count": 43
        }
      ]
    },
    {
      "cell_type": "code",
      "source": [
        "# 12\n",
        "\n",
        "reg = df.query(\"PracticeSport == 'regularly'\")[\"MathScore\"].mean()\n",
        "nev = df.query(\"PracticeSport == 'never'\")[\"MathScore\"].mean()\n",
        "reg > nev"
      ],
      "metadata": {
        "colab": {
          "base_uri": "https://localhost:8080/"
        },
        "id": "NsADJPCZoSQF",
        "outputId": "a8b274ee-b8fd-4f1c-9fea-1a6452005256"
      },
      "execution_count": null,
      "outputs": [
        {
          "output_type": "execute_result",
          "data": {
            "text/plain": [
              "True"
            ]
          },
          "metadata": {},
          "execution_count": 44
        }
      ]
    },
    {
      "cell_type": "code",
      "source": [
        "# 13\n",
        "\n",
        "reg = df.query(\"PracticeSport == 'regularly'\")[\"ReadingScore\"].mean()\n",
        "nev = df.query(\"PracticeSport == 'never'\")[\"ReadingScore\"].mean()\n",
        "reg > nev"
      ],
      "metadata": {
        "colab": {
          "base_uri": "https://localhost:8080/"
        },
        "id": "CvlrswAapYD1",
        "outputId": "af2aa8be-9ee8-4b42-9efb-fe12804a9b9f"
      },
      "execution_count": null,
      "outputs": [
        {
          "output_type": "execute_result",
          "data": {
            "text/plain": [
              "True"
            ]
          },
          "metadata": {},
          "execution_count": 45
        }
      ]
    },
    {
      "cell_type": "code",
      "source": [
        "# 14 \n",
        "\n",
        "df.query('TransportMeans == \"school_bus\"')['TransportMeans'].count()"
      ],
      "metadata": {
        "colab": {
          "base_uri": "https://localhost:8080/"
        },
        "id": "UCBKiym7pYLD",
        "outputId": "4a1ebac9-d1a8-427a-929a-5da3eaacd80d"
      },
      "execution_count": null,
      "outputs": [
        {
          "output_type": "execute_result",
          "data": {
            "text/plain": [
              "16145"
            ]
          },
          "metadata": {},
          "execution_count": 46
        }
      ]
    },
    {
      "cell_type": "code",
      "source": [
        "# 15\n",
        "\n",
        "df.query('TransportMeans == \"private\"')['TransportMeans'].count()"
      ],
      "metadata": {
        "colab": {
          "base_uri": "https://localhost:8080/"
        },
        "id": "NHkuJSnopl1S",
        "outputId": "b6df9281-f019-41be-f738-be6214703590"
      },
      "execution_count": null,
      "outputs": [
        {
          "output_type": "execute_result",
          "data": {
            "text/plain": [
              "11362"
            ]
          },
          "metadata": {},
          "execution_count": 47
        }
      ]
    }
  ]
}