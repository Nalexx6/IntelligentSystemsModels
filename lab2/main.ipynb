{
  "metadata": {
    "language_info": {
      "codemirror_mode": {
        "name": "python",
        "version": 3
      },
      "file_extension": ".py",
      "mimetype": "text/x-python",
      "name": "python",
      "nbconvert_exporter": "python",
      "pygments_lexer": "ipython3",
      "version": "3.8"
    },
    "kernelspec": {
      "name": "python",
      "display_name": "Python (Pyodide)",
      "language": "python"
    }
  },
  "nbformat_minor": 4,
  "nbformat": 4,
  "cells": [
    {
      "cell_type": "code",
      "source": "import numpy as np\nimport time\n\n\ndef task2(n, f_type):\n\n    def task_default():\n        pattern = [[(i + j) % 2 for j in range(n)] for i in range(n)]\n\n        matrix = [[0 for _ in range(n)] for _ in range(n)]\n\n        matrix[0:n:2] = pattern[0:n:2]\n        matrix[1:n:2] = pattern[1:n:2]\n        return matrix\n\n    def task_numpy():\n        print([[(i + j) % 2 for j in range(n)] for i in range(n)])\n\n        matrix = np.zeros((n, n))\n\n        matrix[1::2, ::2] = 1\n        matrix[::2, 1::2] = 1\n\n        return matrix\n\n    f = {'default': task_default, 'numpy': task_numpy}\n\n    return f[f_type]\n\n\ndef task4(n, m, f_type):\n\n    def task_default():\n        return [[i if j == 0 else 0 for i in range(n)] for j in range(m)]\n\n    def task_numpy():\n        matrix = np.zeros((m, n))\n        matrix[0] = np.arange(n)\n        return matrix\n\n    f = {'default': task_default, 'numpy': task_numpy}\n\n    return f[f_type]\n\n\ndef task5(n, f_type):\n\n    def task_default():\n        return [[0 if j % 2 == 1 else 1 for _ in range(n)] for j in range(n)]\n\n    def task_numpy():\n        matrix = np.zeros((n, n))\n        matrix[::2] = 1\n        return matrix\n\n    f = {'default': task_default, 'numpy': task_numpy}\n\n    return f[f_type]\n\n\ndef task8(arr, f_type):\n\n    def task_default():\n        return len(list(filter(lambda x: x != 0, arr)))\n\n    def task_numpy():\n        return np.count_nonzero(arr)\n\n    f = {'default': task_default, 'numpy': task_numpy}\n\n    return f[f_type]\n\n\ndef task9(n, f_type):\n\n    def task_default():\n        return [i for i in range(n, -1, -1)]\n\n    def task_numpy():\n        return np.arange(n, -1, -1)\n\n    f = {'default': task_default, 'numpy': task_numpy}\n\n    return f[f_type]\n\n\ndef task12(n, f_type):\n\n    def task_default():\n        return [[0 if (j == 0 or i == 0 or j == n-1 or i == n-1) else 1 for i in range(n)] for j in range(n)]\n\n    def task_numpy():\n        matrix = np.zeros((n, n))\n        matrix[1:-1, 1:-1] = 1\n\n        return matrix\n\n    f = {'default': task_default, 'numpy': task_numpy}\n\n    return f[f_type]\n\n\ndef task13(f_type, n=8):\n\n    def task_default():\n        return task2(n, 'default')()\n\n    def task_numpy():\n        return [np.tile([1, 0], n // 2) if i % 2 else np.tile([0, 1], n // 2) for i in range(n)]\n\n    f = {'default': task_default, 'numpy': task_numpy}\n\n    return f[f_type]\n\n\ndef task15(n, f_type):\n\n    def task_default():\n        return [[0 if i % 2 == 0 else 1 for i in range(n)] for _ in range(n)]\n\n    def task_numpy():\n        matrix = np.zeros((n, n))\n        matrix[::, 1::2] = 1\n        return matrix\n\n    f = {'default': task_default, 'numpy': task_numpy}\n\n    return f[f_type]\n\n\ndef task19(n, f_type):\n\n    def task_default():\n        return [round(i / (n+1), 3) for i in range(1, n + 1)]\n\n    def task_numpy():\n        return np.around(np.arange(1, n+1) / (n+1), 3)\n\n    f = {'default': task_default, 'numpy': task_numpy}\n\n    return f[f_type]\n\n\ndef compare_time(f1, f2):\n    start = time.time()\n    result1 = f1()\n    end = time.time()\n\n    print(result1)\n    print(f\"Execution time: {end - start} seconds\")\n\n    start = time.time()\n    result2 = f2()\n    end = time.time()\n\n    print(result2)\n    print(f\"Execution time: {end - start} seconds\")\n\n    print(f\"Results are equal:{np.allclose(result1, result2)}\")\n\n\ncompare_time(task2(5, 'default'), task2(5, 'numpy'))\ncompare_time(task4(3, 4, 'default'), task4(3, 4, 'numpy'))\ncompare_time(task5(5, 'default'), task5(5, 'numpy'))\ncompare_time(task8([1, 2, 0, 3, 0, 4, 0, 5], 'default'), task8([1, 2, 0, 3, 0, 4, 0, 5], 'numpy'))\ncompare_time(task9(5, 'default'), task9(5, 'numpy'))\ncompare_time(task12(5, 'default'), task12(5, 'numpy'))\ncompare_time(task13('default'), task13('numpy'))\ncompare_time(task15(5, 'default'), task15(5, 'numpy'))\ncompare_time(task19(10, 'default'), task19(10, 'numpy'))",
      "metadata": {
        "trusted": true
      },
      "execution_count": 6,
      "outputs": [
        {
          "name": "stdout",
          "text": "[[0, 1, 0, 1, 0], [1, 0, 1, 0, 1], [0, 1, 0, 1, 0], [1, 0, 1, 0, 1], [0, 1, 0, 1, 0]]\nExecution time: 0.0010001659393310547 seconds\n[[0, 1, 0, 1, 0], [1, 0, 1, 0, 1], [0, 1, 0, 1, 0], [1, 0, 1, 0, 1], [0, 1, 0, 1, 0]]\n[[0. 1. 0. 1. 0.]\n [1. 0. 1. 0. 1.]\n [0. 1. 0. 1. 0.]\n [1. 0. 1. 0. 1.]\n [0. 1. 0. 1. 0.]]\nExecution time: 0.0019998550415039062 seconds\nResults are equal:True\n[[0, 1, 2], [0, 0, 0], [0, 0, 0], [0, 0, 0]]\nExecution time: 0.0 seconds\n[[0. 1. 2.]\n [0. 0. 0.]\n [0. 0. 0.]\n [0. 0. 0.]]\nExecution time: 0.0 seconds\nResults are equal:True\n[[1, 1, 1, 1, 1], [0, 0, 0, 0, 0], [1, 1, 1, 1, 1], [0, 0, 0, 0, 0], [1, 1, 1, 1, 1]]\nExecution time: 0.0 seconds\n[[1. 1. 1. 1. 1.]\n [0. 0. 0. 0. 0.]\n [1. 1. 1. 1. 1.]\n [0. 0. 0. 0. 0.]\n [1. 1. 1. 1. 1.]]\nExecution time: 0.0 seconds\nResults are equal:True\n5\nExecution time: 0.0 seconds\n5\nExecution time: 0.0 seconds\nResults are equal:True\n[5, 4, 3, 2, 1, 0]\nExecution time: 0.0 seconds\n[5 4 3 2 1 0]\nExecution time: 0.0 seconds\nResults are equal:True\n[[0, 0, 0, 0, 0], [0, 1, 1, 1, 0], [0, 1, 1, 1, 0], [0, 1, 1, 1, 0], [0, 0, 0, 0, 0]]\nExecution time: 0.0 seconds\n[[0. 0. 0. 0. 0.]\n [0. 1. 1. 1. 0.]\n [0. 1. 1. 1. 0.]\n [0. 1. 1. 1. 0.]\n [0. 0. 0. 0. 0.]]\nExecution time: 0.0 seconds\nResults are equal:True\n[[0, 1, 0, 1, 0, 1, 0, 1], [1, 0, 1, 0, 1, 0, 1, 0], [0, 1, 0, 1, 0, 1, 0, 1], [1, 0, 1, 0, 1, 0, 1, 0], [0, 1, 0, 1, 0, 1, 0, 1], [1, 0, 1, 0, 1, 0, 1, 0], [0, 1, 0, 1, 0, 1, 0, 1], [1, 0, 1, 0, 1, 0, 1, 0]]\nExecution time: 0.0010004043579101562 seconds\n[array([0, 1, 0, 1, 0, 1, 0, 1]), array([1, 0, 1, 0, 1, 0, 1, 0]), array([0, 1, 0, 1, 0, 1, 0, 1]), array([1, 0, 1, 0, 1, 0, 1, 0]), array([0, 1, 0, 1, 0, 1, 0, 1]), array([1, 0, 1, 0, 1, 0, 1, 0]), array([0, 1, 0, 1, 0, 1, 0, 1]), array([1, 0, 1, 0, 1, 0, 1, 0])]\nExecution time: 0.0 seconds\nResults are equal:True\n[[0, 1, 0, 1, 0], [0, 1, 0, 1, 0], [0, 1, 0, 1, 0], [0, 1, 0, 1, 0], [0, 1, 0, 1, 0]]\nExecution time: 0.0 seconds\n[[0. 1. 0. 1. 0.]\n [0. 1. 0. 1. 0.]\n [0. 1. 0. 1. 0.]\n [0. 1. 0. 1. 0.]\n [0. 1. 0. 1. 0.]]\nExecution time: 0.0 seconds\nResults are equal:True\n[0.091, 0.182, 0.273, 0.364, 0.455, 0.545, 0.636, 0.727, 0.818, 0.909]\nExecution time: 0.0 seconds\n[0.091 0.182 0.273 0.364 0.455 0.545 0.636 0.727 0.818 0.909]\nExecution time: 0.0 seconds\nResults are equal:True\n",
          "output_type": "stream"
        }
      ]
    },
    {
      "cell_type": "code",
      "source": "import numpy as np\n\n# Defining the coefficients matrix and constant matrix\ncoefficients = np.array([[0, 1, -3, 4], [1, 0, -2, 3], [3, 2, 0, -5], [4, 3, -5, 0]])\nconstants = np.array([-5, -4, 12, 5])\n\n# Solving the system of equations using Kramer's formulas\ndeterminant = np.linalg.det(coefficients)\n\nif determinant != 0:\n    solutions = []\n    for i in range(coefficients.shape[1]):\n        # Replace the i-th column with the constants matrix\n        temp = coefficients.copy()\n        temp[:, i] = constants\n        # Calculate the solution for the i-th variable using the determinant of the modified matrix\n        solutions.append(round(np.linalg.det(temp) / determinant, 2))\n    print(\"Kramer's solutions:\", solutions)\n\n    # Verifying the solutions using matrix multiplication\n    mm_result = np.dot(coefficients, solutions)\n    print(\"Matrix multiplication result:\", mm_result)\n    \n    # Verifying the solutions using inverted matrix\n    inv_result = np.dot(np.linalg.inv(coefficients), constants)\n    print(\"Inverted matrix result:\", inv_result)\n    \n    # Verifying the solutions using numpy.linalg.solve() function\n    solve_result = np.linalg.solve(coefficients, constants)\n    print(\"Solve function result:\", solve_result)\n    \n    # Comparing all solutions using the numpy.allclose() function\n    print(\"Are all solutions equal?\", np.allclose(solutions, inv_result) and np.allclose(solutions, solve_result) and np.allclose(inv_result, solve_result))\nelse:\n    print(\"The system of equations has no unique solutions.\")\n",
      "metadata": {
        "trusted": true
      },
      "execution_count": 7,
      "outputs": [
        {
          "name": "stdout",
          "text": "Kramer's solutions: [1.0, 2.0, 1.0, -1.0]\nMatrix multiplication result: [-5. -4. 12.  5.]\nInverted matrix result: [ 1.  2.  1. -1.]\nSolve function result: [ 1.  2.  1. -1.]\nAre all solutions equal? True\n",
          "output_type": "stream"
        }
      ]
    },
    {
      "cell_type": "code",
      "source": "import numpy as np\nimport time\n\n\ndef multiply(A, B):\n    m, n = A.shape\n    n, p = B.shape\n    C = np.zeros((m, p))\n    for i in range(m):\n        for j in range(p):\n            for k in range(n):\n                C[i][j] += A[i][k] * B[k][j]\n    return C\n\n\ndef add(A, B):\n    m, n = A.shape\n    C = np.zeros((m, n))\n    for i in range(m):\n        for j in range(n):\n                C[i][j] += A[i][j] + B[i][j]\n    return C\n\n\ndef subtract(A, B):\n    m, n = A.shape\n    C = np.zeros((m, n))\n    for i in range(m):\n        for j in range(n):\n                C[i][j] += A[i][j] - B[i][j]\n    return C\n\n\nA = np.array([[7, 2, 0], [-7, -2, 1], [1, 1, 0]])\nB = np.array([[0, 2, 3], [1, 0, -2], [3, 1, 1]])\n\nstart = time.time()\n\nresult1 = np.dot(np.subtract(np.linalg.matrix_power(A, 2), np.linalg.matrix_power(B, 2)), np.add(A, B))\n\nend = time.time()\n\nprint(result1)\nprint(f\"Execution time: {end - start} seconds\")\n\nstart = time.time()\n\nresult2 = multiply(subtract(multiply(A, A), multiply(B, B)), add(A, B))\n\nend = time.time()\n\nprint(result2)\nprint(f\"Execution time: {end - start} seconds\")\n\nprint(f\"Results are equal:{np.allclose(result1, result2)}\")\n\n",
      "metadata": {
        "trusted": true
      },
      "execution_count": 8,
      "outputs": [
        {
          "name": "stdout",
          "text": "[[ 138   88   68]\n [-154 -100  -78]\n [ -14  -16  -12]]\nExecution time: 0.0010001659393310547 seconds\n[[ 138.   88.   68.]\n [-154. -100.  -78.]\n [ -14.  -16.  -12.]]\nExecution time: 0.0009999275207519531 seconds\nResults are equal:True\n",
          "output_type": "stream"
        }
      ]
    },
    {
      "cell_type": "code",
      "source": "",
      "metadata": {},
      "execution_count": null,
      "outputs": []
    }
  ]
}