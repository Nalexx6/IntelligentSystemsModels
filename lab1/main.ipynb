{
  "metadata": {
    "language_info": {
      "codemirror_mode": {
        "name": "python",
        "version": 3
      },
      "file_extension": ".py",
      "mimetype": "text/x-python",
      "name": "python",
      "nbconvert_exporter": "python",
      "pygments_lexer": "ipython3",
      "version": "3.8"
    },
    "kernelspec": {
      "name": "python",
      "display_name": "Python (Pyodide)",
      "language": "python"
    }
  },
  "nbformat_minor": 4,
  "nbformat": 4,
  "cells": [
    {
      "cell_type": "code",
      "source": "## Країна Джибуті\n\n![Djibouti flag](https://upload.wikimedia.org/wikipedia/commons/thumb/3/34/Flag_of_Djibouti.svg/1200px-Flag_of_Djibouti.svg.png)\n\n### Загальна інформація\n\n- **Площа**: 23 200 км2\n- **Населення**: близько 1 млн. чоловік\n- **Державний устрій**: парламентська республіка\n- **Видатні персоналії**: Ісмаїл Омар Гʼєле, Гіггс Босонг, Абді Раймон Галі\n- **Памʼятки культури та природи**: гірський масив Мабла та острів Муха\n\n### Таблиця з інформацією про країну\n\n| Показник | Значення |\n| --- | --- |\n| Площа | 23 200 км2 |\n| Населення | близько 1 млн. чоловік |\n| Державний устрій | парламентська республіка |\n\n### Список видатних персоналій\n\n- *Ісмаїл Омар Гʼєле*\n- *Гіггс Босонг*\n- *Абді Раймон Галі*\n",
      "metadata": {},
      "execution_count": null,
      "outputs": []
    },
    {
      "cell_type": "code",
      "source": "%%html\n<!DOCTYPE html>\n<html>\n  <head>\n    <title>Flag of Djibouti</title>\n  </head>\n  <body>\n<svg width=\"300\" height=\"200\">\n  <rect x=\"0\" y=\"0\" width=\"300\" height=\"200\" fill=\"white\"/>\n  <path d=\"M 0,0 L 300,0 L 300,100 L 200,100 Z\" fill=\"#6bb2e8\" />\n  <path d=\"M 200,100 L 300,100 L 300,200 L 0,200 L\" fill=\"#12ad2b\" />\n  <path d=\"M 90,50 L 110,140 L 50,80 L 130,80 L 60,140 Z\" fill=\"#d7141a\" />\n</svg>\n</html>\n",
      "metadata": {
        "tags": []
      },
      "execution_count": null,
      "outputs": []
    },
    {
      "cell_type": "code",
      "source": "def bubble_sort(arr):\n    n = len(arr)\n    swap_count = 0\n    \n    for i in range(n):\n        for j in range(0, n-i-1):\n            if arr[j] > arr[j+1]:\n                arr[j], arr[j+1] = arr[j+1], arr[j]\n                swap_count += 1\n    \n    return arr, swap_count\n\nlst = list(map(int, input(\"Enter the list of numbers separated by space: \").split()))\n\nsorted_lst, swaps = bubble_sort(lst)\n\n# Printing the sorted list and swap count\nprint(\"Sorted list:\", sorted_lst)\nprint(\"Number of swaps:\", swaps)",
      "metadata": {},
      "execution_count": null,
      "outputs": []
    }
  ]
}